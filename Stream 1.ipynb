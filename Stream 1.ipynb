{
 "cells": [
  {
   "cell_type": "code",
   "execution_count": 5,
   "id": "eec9a3f6-8304-4655-9669-0cb94a734415",
   "metadata": {},
   "outputs": [],
   "source": [
    "#Import Pandas library to manipulate the data\n",
    "import pandas as pd\n",
    "\n"
   ]
  },
  {
   "cell_type": "code",
   "execution_count": 6,
   "id": "7f129e5c-f255-499c-b8bc-b49d51694afb",
   "metadata": {},
   "outputs": [],
   "source": [
    "#Import the data from the excel file and show it\n",
    "df = pd.read_excel('dataset.xlsx')\n",
    "\n"
   ]
  },
  {
   "cell_type": "code",
   "execution_count": 7,
   "id": "8abbc116-4355-43c3-b010-967dfe346387",
   "metadata": {},
   "outputs": [],
   "source": [
    "#Delete the unuseful columns\n",
    "del df['Unemployment with advanced education (% of total labor force with advanced education)']\n",
    "del df['GDP per capita']\n"
   ]
  },
  {
   "cell_type": "code",
   "execution_count": 8,
   "id": "30cd86c9-e9a8-48bc-8131-df5cfca7b115",
   "metadata": {},
   "outputs": [
    {
     "name": "stdout",
     "output_type": "stream",
     "text": [
      "Index(['Country Name', 'Country Code', 'GDP', 'Inflation', 'Trade'], dtype='object')\n"
     ]
    }
   ],
   "source": [
    "#Rename the columns GDP growth,Inflation consumer prices (annual %),Trade (% of GDP)\n",
    "df.columns = ['GDP' if col == 'GDP growth' else \n",
    "              'Inflation' if col == 'Inflation consumer prices (annual %)' else \n",
    "              'Trade' if col == 'Trade (% of GDP)' else col for col in df.columns]\n",
    "print(df.columns)\n"
   ]
  },
  {
   "cell_type": "code",
   "execution_count": 9,
   "id": "354e7f4a-e3d8-4e8a-a07d-7270e7dcd39c",
   "metadata": {},
   "outputs": [
    {
     "name": "stdout",
     "output_type": "stream",
     "text": [
      "Index(['Country Name', 'Country Code', 'GDP', 'Inflation', 'Trade'], dtype='object')\n",
      "avg_GDP using loop: -5.065449234361873\n",
      "avg_Inflation using loop: 8.057423512647146\n",
      "avg_Trade using loop: 84.36905428635443\n"
     ]
    }
   ],
   "source": [
    "print(df.columns)\n",
    "# Calculate the avreage of each columns while\n",
    "# excluding the null values referred by '..'.\n",
    "\n",
    "# Iterate over the cells and calculate their sum\n",
    "# while incrementing a counter to track the number of\n",
    "# rows containing values then deviding the sum by the counter\n",
    "\n",
    "# Calculate the avg of GDP\n",
    "sum_GDP = 0\n",
    "i = 0\n",
    "for value in df['GDP']:\n",
    "    if (value != '..'): #excludes the empty values\n",
    "        sum_GDP += value\n",
    "        i+=1\n",
    "avg_GDP = sum_GDP/i\n",
    "\n",
    "# Calculate the avg of Inflation\n",
    "sum_Inflation = 0\n",
    "j = 0\n",
    "for value in df['Inflation']:\n",
    "    if (value != '..'):\n",
    "        sum_Inflation += value\n",
    "        j+=1\n",
    "avg_Inflation = sum_Inflation/j\n",
    "\n",
    "# Calculate the avg of Trade\n",
    "sum_Trade = 0\n",
    "k = 0\n",
    "for value in df['Trade']:\n",
    "    if (value != '..'):\n",
    "        sum_Trade += value\n",
    "        k+=1\n",
    "avg_Trade = sum_Trade/k\n",
    "\n",
    "\n",
    "# <!> the average of each column might be calculated using mean()\n",
    "# prdefined function of pandas but here its not applicable because our columns \n",
    "# containes string values '..'\n",
    "\n",
    "print(\"avg_GDP using loop:\", avg_GDP)\n",
    "print(\"avg_Inflation using loop:\", avg_Inflation)\n",
    "print(\"avg_Trade using loop:\", avg_Trade)"
   ]
  },
  {
   "cell_type": "code",
   "execution_count": 10,
   "id": "94cad2c7-3405-42c3-b756-406daf414905",
   "metadata": {},
   "outputs": [],
   "source": [
    "# Replace every '..' contained in \n",
    "# a column by the average of the column\n",
    "df.loc[df['GDP'] == '..', 'GDP'] = avg_GDP\n",
    "df.loc[df['Inflation'] == '..', 'Inflation'] = avg_Inflation\n",
    "df.loc[df['Trade'] == '..', 'Trade'] = avg_Trade\n"
   ]
  },
  {
   "cell_type": "code",
   "execution_count": 11,
   "id": "227a9569-94a0-4d1e-bc2a-1f6584168292",
   "metadata": {},
   "outputs": [
    {
     "name": "stderr",
     "output_type": "stream",
     "text": [
      "/var/folders/v1/t9hc1nss39sdpgmpmzkqw0q40000gn/T/ipykernel_7486/310448814.py:8: FutureWarning: Setting an item of incompatible dtype is deprecated and will raise in a future error of pandas. Value 'low GDP' has dtype incompatible with float64, please explicitly cast to a compatible dtype first.\n",
      "  df.loc[index, 'EGL'] = 'low GDP'\n"
     ]
    }
   ],
   "source": [
    "# Create a new column named EGL.\n",
    "\n",
    "# For each row we check the value of the GDP and based on that \n",
    "# we populate the data by the corresponding description \n",
    "\n",
    "for index, value in df.iterrows():\n",
    "    if value['GDP'] <= 1:\n",
    "        df.loc[index, 'EGL'] = 'low GDP'\n",
    "    elif  1 <= value['GDP'] <= 3:\n",
    "        df.loc[index, 'EGL'] = 'medium GDP'\n",
    "    elif  3 <= value['GDP'] <= 5:\n",
    "        df.loc[index, 'EGL'] = 'high GDP'\n",
    "    else :\n",
    "        df.loc[index, 'EGL'] = 'very high GDP'\n",
    "  "
   ]
  },
  {
   "cell_type": "code",
   "execution_count": 12,
   "id": "c636db42-28e8-4397-8a63-89dae41d4ee9",
   "metadata": {},
   "outputs": [],
   "source": [
    "# We read a specific sheet from the excel file as a new dataframe\n",
    "\n",
    "df1 = pd.read_excel('dataset.xlsx', sheet_name='Feuil5')\n",
    "df11 = pd.DataFrame(df1);\n"
   ]
  },
  {
   "cell_type": "code",
   "execution_count": 13,
   "id": "fb12bb28-b8e2-4b11-bc33-b9d22be7eee1",
   "metadata": {},
   "outputs": [
    {
     "name": "stderr",
     "output_type": "stream",
     "text": [
      "/var/folders/v1/t9hc1nss39sdpgmpmzkqw0q40000gn/T/ipykernel_7486/3676171603.py:9: FutureWarning: Setting an item of incompatible dtype is deprecated and will raise in a future error of pandas. Value 'low income' has dtype incompatible with float64, please explicitly cast to a compatible dtype first.\n",
      "  df.loc[index, 'Income_level'] = 'low income'\n"
     ]
    }
   ],
   "source": [
    "# We create a new column called IncomeLevel and populate it \n",
    "# with the corresponding description based on the comparison of the country name\n",
    "# (it shoul be upperCased to match the format of data to compare to)\n",
    "\n",
    "for index, value in df.iterrows():\n",
    "    if value['Country Name'].upper() in df11['high income'].values:\n",
    "        df.loc[index, 'Income_level'] = 'high income'\n",
    "    elif value['Country Name'].upper() in df11['Low income'].values:\n",
    "        df.loc[index, 'Income_level'] = 'low income'\n",
    "    elif value['Country Name'].upper() in df11['Middle income'].values:\n",
    "        df.loc[index, 'Income_level'] = 'middle income'\n"
   ]
  },
  {
   "cell_type": "code",
   "execution_count": 14,
   "id": "d695a2e7-b279-4243-be11-fc9863dec175",
   "metadata": {},
   "outputs": [],
   "source": [
    "# We search for the index of the country to replace and\n",
    "# we add the new value to the country name and country code \n",
    "# located with that index\n",
    "\n",
    "index = df[df['Country Name'] == 'Israel'].index\n",
    "df.loc[index, 'Country Name'] = 'Palestine'\n",
    "df.loc[index, 'Country Code'] = 'PS'\n",
    "\n",
    "index = df[df['Country Name'] == 'Venezuela, RB'].index\n",
    "df.loc[index, 'Income_level'] = 'low income'\n",
    "\n"
   ]
  },
  {
   "cell_type": "code",
   "execution_count": 15,
   "id": "e96229f9-fe62-4b76-944f-c8d0adeb176a",
   "metadata": {},
   "outputs": [],
   "source": [
    "df.head(215)\n",
    "df.to_excel('Stream1.xlsx', index= False)\n"
   ]
  },
  {
   "cell_type": "code",
   "execution_count": 16,
   "id": "c3d5935d-1e24-4970-adb6-c6dd3ce0e670",
   "metadata": {},
   "outputs": [
    {
     "data": {
      "image/png": "[encoded data removed]",
      "text/plain": [
       "<Figure size 640x480 with 1 Axes>"
      ]
     },
     "metadata": {},
     "output_type": "display_data"
    }
   ],
   "source": [
    "import matplotlib.pyplot as plt\n",
    "df1 = pd.read_excel('Stream1.xlsx')\n",
    "\n",
    "percentages = df1['Income_level'].value_counts(normalize=True) * 100\n",
    "\n",
    "# Plotting a pie chart\n",
    "plt.figure()\n",
    "plt.pie(percentages, labels=percentages.index, autopct='%1.1f%%')\n",
    "plt.title('Percentage of Countries in Each Income Level Category')\n",
    "plt.show()"
   ]
  },
  {
   "cell_type": "code",
   "execution_count": 17,
   "id": "cc03dfbb-6fb4-4167-919c-1e2e17b46456",
   "metadata": {},
   "outputs": [
    {
     "data": {
      "image/png": "[encoded data removed]",
      "text/plain": [
       "<Figure size 640x480 with 1 Axes>"
      ]
     },
     "metadata": {},
     "output_type": "display_data"
    }
   ],
   "source": [
    "percentages = df1['EGL'].value_counts(normalize=True) * 100\n",
    "\n",
    "# Plotting a pie chart\n",
    "plt.figure()\n",
    "plt.pie(percentages, labels=percentages.index, autopct='%1.1f%%')\n",
    "plt.title('Percentage of Countries in Each EGL Category')\n",
    "plt.show()"
   ]
  },
  {
   "cell_type": "markdown",
   "id": "d5efbd37-e6aa-4960-b6d5-10bbc421c664",
   "metadata": {},
   "source": [
    "# Stream 2"
   ]
  },
  {
   "cell_type": "code",
   "execution_count": null,
   "id": "e35a8d8a-0846-44fc-bf91-ac185227abc0",
   "metadata": {},
   "outputs": [],
   "source": []
  },
  {
   "cell_type": "code",
   "execution_count": 18,
   "id": "a55fc1ef-5995-4aa2-aa26-a434f5a2c310",
   "metadata": {},
   "outputs": [
    {
     "name": "stdout",
     "output_type": "stream",
     "text": [
      "EGL            high GDP  low GDP  medium GDP  very high GDP\n",
      "Income_level                                               \n",
      "high income           1       77           1              3\n",
      "low income            1       20           5              1\n",
      "middle income         8       91           8              1\n"
     ]
    }
   ],
   "source": [
    "grouped = df1.groupby(['Income_level', 'EGL']).size().reset_index(name='Frequency')\n",
    "\n",
    "# Pivot the table to get a better view (reshaping the data)\n",
    "pivot_table = grouped.pivot(index='Income_level', columns='EGL', values='Frequency').fillna(0)\n",
    "\n",
    "# Display the resulting pivot table\n",
    "print(pivot_table)"
   ]
  },
  {
   "cell_type": "code",
   "execution_count": 19,
   "id": "f1f8b025-ae4f-48a9-aac9-2e2f31f1b689",
   "metadata": {},
   "outputs": [
    {
     "name": "stdout",
     "output_type": "stream",
     "text": [
      "['low income' 'middle income' 'high income']\n",
      "['low GDP' 'very high GDP' 'high GDP' 'medium GDP']\n",
      "0\n",
      "0\n"
     ]
    }
   ],
   "source": [
    "print(df1['Income_level'].unique())\n",
    "print(df1['EGL'].unique())\n",
    "print(df1['Income_level'].isnull().sum())\n",
    "print(df1['EGL'].isnull().sum())"
   ]
  },
  {
   "cell_type": "code",
   "execution_count": 20,
   "id": "eadd0a14-d2c1-4185-9224-aa99969cb8a8",
   "metadata": {},
   "outputs": [
    {
     "name": "stdout",
     "output_type": "stream",
     "text": [
      "    Income_level  IncomeLevel_frequencies  IncomeLevel_relative_frequencies\n",
      "0     low income                       27                          0.124424\n",
      "1  middle income                      108                          0.497696\n",
      "2    high income                       82                          0.377880\n",
      "             EGL  EGL_frequencies  EGL_relative_frequencies\n",
      "0        low GDP              188                  0.866359\n",
      "1  very high GDP                5                  0.023041\n",
      "2       high GDP               10                  0.046083\n",
      "3     medium GDP               14                  0.064516\n"
     ]
    }
   ],
   "source": [
    "# initialize empty Dict to hold income levels categories(key) and their frequencies(value)\n",
    "# looping over the IL column; for every category, while finding an occurence,\n",
    "# we increment by 1\n",
    "\n",
    "IL_frequencies = {}\n",
    "for val in df1['Income_level']:\n",
    "    if val in IL_frequencies:\n",
    "        IL_frequencies[val] += 1\n",
    "    else:\n",
    "        IL_frequencies[val] = 1\n",
    "\n",
    "# Calculate relative frequencies for Income_level categories\n",
    "# we retrive the total number of records present in IL column (total_entries)\n",
    "# then for every category(key) we calculate its relative frequency\n",
    "# by deviding its value of frequency by the total number of records\n",
    "# we use the keys and values of the IL_frequencies\n",
    "\n",
    "IL_total_entries = len(df1['Income_level'])\n",
    "IL_relative_frequencies = {k: v / IL_total_entries for k, v in IL_frequencies.items()}\n",
    "\n",
    "\n",
    "# SAME WORK HERE\n",
    "EGL_frequencies = {}\n",
    "for val in df1['EGL']:\n",
    "    if val in EGL_frequencies:\n",
    "        EGL_frequencies[val] += 1\n",
    "    else:\n",
    "        EGL_frequencies[val] = 1\n",
    "\n",
    "EGL_total_entries = len(df1['EGL'])\n",
    "EGL_relative_frequencies = {k: v / EGL_total_entries for k, v in EGL_frequencies.items()}\n",
    "\n",
    "\n",
    "\n",
    "# Create the tables\n",
    "stat_table1 = pd.DataFrame({\n",
    "    'Income_level': list(IL_frequencies.keys()),# IL categories from the IL_frequencies dict (keys)\n",
    "    'IncomeLevel_frequencies': list(IL_frequencies.values()),# IL categories frequencies from the IL_frequencies dict (values)\n",
    "    'IncomeLevel_relative_frequencies': list(IL_relative_frequencies.values()),# IL categories relative frequencies from the IL_relative_frequencies dict (values)\n",
    "})\n",
    "\n",
    "stat_table2 = pd.DataFrame({\n",
    "    'EGL': list(EGL_frequencies.keys()),# EGL categories from the EGL_frequencies dict (keys)\n",
    "    'EGL_frequencies': list(EGL_frequencies.values()),# EGL categories frequencies from the EGL_frequencies dict (values)\n",
    "    'EGL_relative_frequencies': list(EGL_relative_frequencies.values())# EGL categories relative frequencies from the EGL_relative_frequencies dict (values)\n",
    "})\n",
    "\n",
    "print(stat_table1)\n",
    "print(stat_table2)\n"
   ]
  },
  {
   "cell_type": "code",
   "execution_count": 21,
   "id": "8587fea1-2cf2-41e8-8239-b88fdc5d1c7d",
   "metadata": {},
   "outputs": [
    {
     "data": {
      "image/png": "[encoded data removed]",
      "text/plain": [
       "<Figure size 1000x600 with 1 Axes>"
      ]
     },
     "metadata": {},
     "output_type": "display_data"
    },
    {
     "data": {
      "image/png": "[encoded data removed]",
      "text/plain": [
       "<Figure size 640x480 with 1 Axes>"
      ]
     },
     "metadata": {},
     "output_type": "display_data"
    }
   ],
   "source": [
    "# Sort frequencies by keys for consistent plotting\n",
    "\n",
    "# Income Level\n",
    "sorted_IL_categories = sorted(IL_frequencies.keys())\n",
    "sorted_IL_frequencies = [IL_frequencies[cat] for cat in sorted_IL_categories]\n",
    "\n",
    "# Create bar plot\n",
    "plt.figure(figsize=(10, 6))\n",
    "plt.bar(sorted_IL_categories, sorted_IL_frequencies)\n",
    "plt.xlabel('Income Level')\n",
    "plt.ylabel('Frequency')\n",
    "plt.title('Frequency Distribution of IL Categories')\n",
    "plt.show()\n",
    "\n",
    "# EGL\n",
    "\n",
    "sorted_EGL_categories = sorted(EGL_frequencies.keys())\n",
    "sorted_EGL_frequencies = [EGL_frequencies[cat] for cat in sorted_EGL_categories]\n",
    "\n",
    "# Create bar plot\n",
    "plt.bar(sorted_EGL_categories, sorted_EGL_frequencies)\n",
    "plt.xlabel('EGL')\n",
    "plt.ylabel('Frequency')\n",
    "plt.title('Frequency Distribution of EGL Categories')\n",
    "plt.show()"
   ]
  },
  {
   "cell_type": "code",
   "execution_count": 38,
   "id": "f8295b9e-0415-4edc-8399-474da87ea44f",
   "metadata": {},
   "outputs": [],
   "source": [
    "\n",
    "# # Assuming you have sorted frequencies for Income_level (IL) and EGL\n",
    "# # sorted_IL_categories, sorted_IL_frequencies, sorted_EGL_categories, sorted_EGL_frequencies\n",
    "\n",
    "# fig, ax = plt.subplots(figsize=(10, 6))\n",
    "\n",
    "# bar_width = 0.35\n",
    "# index = range(len(sorted_IL_categories))\n",
    "\n",
    "# # Plotting the bars for Income_level\n",
    "# bars1 = plt.bar(index, sorted_IL_frequencies, bar_width, label='Income_level')\n",
    "\n",
    "# # Adjusting the x positions for the bars for EGL\n",
    "# index = [i + bar_width for i in index]\n",
    "# bars2 = plt.bar(index, sorted_EGL_frequencies, bar_width, label='EGL')\n",
    "\n",
    "# plt.xlabel('Categories')\n",
    "# plt.ylabel('Frequencies')\n",
    "# plt.title('Frequency Distribution of Two Categorical Variables')\n",
    "# plt.xticks([i + bar_width / 2 for i in range(len(sorted_IL_categories))], sorted_IL_categories)\n",
    "# plt.legend()\n",
    "\n",
    "# plt.tight_layout()\n",
    "# plt.show()"
   ]
  },
  {
   "cell_type": "markdown",
   "id": "71e20d2f-66d3-4c49-b160-a51d91a5c6a2",
   "metadata": {},
   "source": [
    "# STEP 4&5"
   ]
  },
  {
   "cell_type": "code",
   "execution_count": 22,
   "id": "767b443c-e9f6-4ad6-a7f8-4c1f62b86d61",
   "metadata": {},
   "outputs": [
    {
     "name": "stdout",
     "output_type": "stream",
     "text": [
      "**** Displaying the statistical table of GDP ****\n",
      "      Interval  Frequency  Relative Frequency  Cumulative Frequency\n",
      "0   (-60, -50)          1            0.004608                     1\n",
      "1   (-50, -40)          0            0.000000                     1\n",
      "2   (-40, -30)          1            0.004608                     2\n",
      "3   (-30, -20)          6            0.027650                     8\n",
      "4   (-20, -10)         25            0.115207                    33\n",
      "5     (-10, 0)        146            0.672811                   179\n",
      "6      (0, 10)         36            0.165899                   215\n",
      "7     (10, 20)          0            0.000000                   215\n",
      "8     (20, 30)          0            0.000000                   215\n",
      "9     (30, 40)          1            0.004608                   216\n",
      "10    (40, 50)          1            0.004608                   217\n"
     ]
    }
   ],
   "source": [
    "intervals = [(-60, -50), (-50, -40), (-40, -30), (-30, -20), (-20, -10), (-10, 0),(0, 10),(10, 20),\n",
    "            (20, 30), (30, 40), (40, 50)]\n",
    "\n",
    "\n",
    "# Calculate GDP frequencies we should map every value of gdp in its specific interval\n",
    "frequencies = [0] * len(intervals)\n",
    "for num in df1['GDP']:\n",
    "    for i, interval in enumerate(intervals):\n",
    "        lower_bound, upper_bound = interval\n",
    "        if lower_bound <= num < upper_bound:\n",
    "            frequencies[i] += 1\n",
    "            break\n",
    "\n",
    "# Calculate relative frequencies by deviding every interval frequency by the total observation\n",
    "total_observations = len(df1['GDP'])\n",
    "relative_frequencies = [(count / total_observations)  for count in frequencies]\n",
    "\n",
    "# Calculate cumulative frequencies by adding the previous value of frequency to the actual value of cumulative frequency\n",
    "cumulative_frequencies = []\n",
    "cumulative_sum = 0\n",
    "for count in frequencies:\n",
    "    cumulative_sum += count\n",
    "    cumulative_frequencies.append(cumulative_sum)\n",
    "\n",
    "GDP_stat_table = {\n",
    "    'Interval': intervals,\n",
    "    'Frequency': frequencies,\n",
    "    'Relative Frequency': relative_frequencies,\n",
    "    'Cumulative Frequency': cumulative_frequencies\n",
    "}\n",
    "\n",
    "GDP_stat_df = pd.DataFrame(GDP_stat_table)\n",
    "print('**** Displaying the statistical table of GDP ****')\n",
    "print(GDP_stat_df)\n",
    "\n",
    "\n",
    "\n",
    "\n"
   ]
  },
  {
   "cell_type": "code",
   "execution_count": 23,
   "id": "83231e29-67d7-42fc-b00a-5ac56e9f5b3b",
   "metadata": {},
   "outputs": [
    {
     "name": "stdout",
     "output_type": "stream",
     "text": [
      "**** Displaying the statistical table of Inflation ****\n",
      "   Interval  Frequency  Relative Frequency  Cumulative Frequency\n",
      "0  (-10, 0)         33            0.152074                    33\n",
      "1   (0, 10)        169            0.778802                   202\n",
      "2  (10, 20)          6            0.027650                   208\n",
      "3  (20, 30)          4            0.018433                   212\n",
      "4  (30, 40)          2            0.009217                   214\n",
      "5  (40, 50)          0            0.000000                   214\n"
     ]
    }
   ],
   "source": [
    "intervalss = [(-10, 0),(0, 10),(10, 20),\n",
    "            (20, 30), (30, 40), (40, 50)]\n",
    "\n",
    "\n",
    "# Calculate inflation frequencies we should map every value of gdp in its specific interval\n",
    "Inflation_frequencies = [0] * len(intervalss)\n",
    "for num in df1['Inflation']:\n",
    "    for i, interval in enumerate(intervalss):\n",
    "        lower_bound, upper_bound = interval\n",
    "        if lower_bound <= num < upper_bound:\n",
    "            Inflation_frequencies[i] += 1\n",
    "            break\n",
    "\n",
    "# Calculate relative frequencies by deviding every interval frequency by the total observation\n",
    "Inflation_total_observations = len(df1['Inflation'])\n",
    "Inflation_relative_frequencies = [(count / Inflation_total_observations)  for count in Inflation_frequencies]\n",
    "\n",
    "# Calculate cumulative frequencies by adding the previous value of frequency to the actual value of cumulative frequency\n",
    "Inflation_cumulative_frequencies = []\n",
    "Inflation_cumulative_sum = 0\n",
    "for count in Inflation_frequencies:\n",
    "    Inflation_cumulative_sum += count\n",
    "    Inflation_cumulative_frequencies.append(Inflation_cumulative_sum)\n",
    "\n",
    "Inflation_stat_table = {\n",
    "    'Interval': intervalss,\n",
    "    'Frequency': Inflation_frequencies,\n",
    "    'Relative Frequency': Inflation_relative_frequencies,\n",
    "    'Cumulative Frequency': Inflation_cumulative_frequencies\n",
    "}\n",
    "\n",
    "Inflation_stat_df = pd.DataFrame(Inflation_stat_table)\n",
    "print('**** Displaying the statistical table of Inflation ****')\n",
    "print(Inflation_stat_df)\n",
    "\n"
   ]
  },
  {
   "cell_type": "code",
   "execution_count": 24,
   "id": "1f14dd9c-c9f5-4145-aa46-1f91c5be6524",
   "metadata": {},
   "outputs": [
    {
     "name": "stdout",
     "output_type": "stream",
     "text": [
      "**** Displaying the statistical table of Trade ****\n",
      "     Interval  Frequency  Relative Frequency  Cumulative Frequency\n",
      "0     (0, 50)         47            0.216590                    47\n",
      "1   (50, 100)        125            0.576037                   172\n",
      "2  (100, 150)         30            0.138249                   202\n",
      "3  (150, 200)          8            0.036866                   210\n",
      "4  (200, 250)          2            0.009217                   212\n",
      "5  (250, 300)          0            0.000000                   212\n",
      "6  (300, 350)          3            0.013825                   215\n",
      "7  (350, 400)          2            0.009217                   217\n",
      "8  (400, 450)          0            0.000000                   217\n",
      "9  (450, 500)          0            0.000000                   217\n"
     ]
    }
   ],
   "source": [
    "intervalsss = [(0, 50),(50, 100),(100, 150),\n",
    "            (150, 200), (200, 250), (250, 300), (300, 350), (350, 400), (400, 450), (450, 500)]\n",
    "\n",
    "\n",
    "# Calculate inflation frequencies we should map every value of gdp in its specific interval\n",
    "Trade_frequencies = [0] * len(intervalsss)\n",
    "for num in df1['Trade']:\n",
    "    for i, interval in enumerate(intervalsss):\n",
    "        lower_bound, upper_bound = interval\n",
    "        if lower_bound <= num < upper_bound:\n",
    "            Trade_frequencies[i] += 1\n",
    "            break\n",
    "\n",
    "# Calculate relative frequencies by deviding every interval frequency by the total observation\n",
    "Trade_total_observations = len(df1['Trade'])\n",
    "Trade_relative_frequencies = [(count / Trade_total_observations)  for count in Trade_frequencies]\n",
    "\n",
    "# Calculate cumulative frequencies by adding the previous value of frequency to the actual value of cumulative frequency\n",
    "Trade_cumulative_frequencies = []\n",
    "Trade_cumulative_sum = 0\n",
    "for count in Trade_frequencies:\n",
    "    Trade_cumulative_sum += count\n",
    "    Trade_cumulative_frequencies.append(Trade_cumulative_sum)\n",
    "\n",
    "Trade_stat_table = {\n",
    "    'Interval': intervalsss,\n",
    "    'Frequency': Trade_frequencies,\n",
    "    'Relative Frequency': Trade_relative_frequencies,\n",
    "    'Cumulative Frequency': Trade_cumulative_frequencies\n",
    "}\n",
    "\n",
    "Trade_stat_df = pd.DataFrame(Trade_stat_table)\n",
    "print('**** Displaying the statistical table of Trade ****')\n",
    "print(Trade_stat_df)\n"
   ]
  },
  {
   "cell_type": "code",
   "execution_count": 25,
   "id": "2c4163d1-d9af-4351-a3c2-e5c0c7374205",
   "metadata": {},
   "outputs": [
    {
     "data": {
      "image/png": "[encoded data removed]",
      "text/plain": [
       "<Figure size 1000x1500 with 3 Axes>"
      ]
     },
     "metadata": {},
     "output_type": "display_data"
    }
   ],
   "source": [
    "import matplotlib.pyplot as plt\n",
    "\n",
    "\n",
    "# Creating subplots with 3 histograms\n",
    "fig, axs = plt.subplots(3, 1, figsize=(10, 15))\n",
    "\n",
    "# Histogram for GDP growth\n",
    "axs[0].hist(df1['GDP'], bins=10, alpha=0.7)\n",
    "axs[0].set_title('GDP Growth')\n",
    "\n",
    "# Histogram for inflation\n",
    "axs[1].hist(df1['Inflation'], bins=10, alpha=0.7)\n",
    "axs[1].set_title('Inflation')\n",
    "\n",
    "# Histogram for trade\n",
    "axs[2].hist(df1['Trade'], bins=10, alpha=0.7)\n",
    "axs[2].set_title('Trade')\n",
    "\n",
    "# Adjusting the spacing between plots and displaying the histogram\n",
    "plt.tight_layout()\n",
    "plt.show()\n"
   ]
  },
  {
   "cell_type": "markdown",
   "id": "f5c29ee7-e72f-45b6-8c7b-94ead9700a35",
   "metadata": {},
   "source": [
    "# MEAN"
   ]
  },
  {
   "cell_type": "code",
   "execution_count": 26,
   "id": "ff443e43-d1c8-4539-ab6a-def7df8e46b6",
   "metadata": {},
   "outputs": [
    {
     "name": "stdout",
     "output_type": "stream",
     "text": [
      "GDP mean: -5.065449234361874\n",
      "Inflation mean: 8.05742351264714\n",
      "Trade mean: 84.36905428635447\n"
     ]
    }
   ],
   "source": [
    "# Calculate the avreage of each columns while\n",
    "# excluding the null values referred by '..'.\n",
    "\n",
    "# Iterate over the cells and calculate their sum\n",
    "# while incrementing a counter to track the number of\n",
    "# rows containing values then deviding the sum by the counter\n",
    "\n",
    "# Calculate the avg of GDP\n",
    "sum_GDP = 0\n",
    "i = 0\n",
    "for value in df['GDP']:\n",
    "    sum_GDP += value\n",
    "    i+=1\n",
    "avg_GDP = sum_GDP/i\n",
    "\n",
    "# Calculate the avg of Inflation\n",
    "sum_Inflation = 0\n",
    "j = 0\n",
    "for value in df['Inflation']:\n",
    "    sum_Inflation += value\n",
    "    j+=1\n",
    "avg_Inflation = sum_Inflation/j\n",
    "\n",
    "# Calculate the avg of Trade\n",
    "sum_Trade = 0\n",
    "k = 0\n",
    "for value in df['Trade']:\n",
    "    sum_Trade += value\n",
    "    k+=1\n",
    "avg_Trade = sum_Trade/k\n",
    "\n",
    "print(\"GDP mean:\", avg_GDP)\n",
    "print(\"Inflation mean:\", avg_Inflation)\n",
    "print(\"Trade mean:\", avg_Trade)"
   ]
  },
  {
   "cell_type": "markdown",
   "id": "c269f753-e927-429c-b022-b9e7b242a098",
   "metadata": {},
   "source": [
    "# MODE"
   ]
  },
  {
   "cell_type": "code",
   "execution_count": 27,
   "id": "d088bbb5-09a2-4906-a3b4-6f0ca7b5b4c4",
   "metadata": {},
   "outputs": [
    {
     "name": "stdout",
     "output_type": "stream",
     "text": [
      "GDP mode: [-5.065449234361873]\n",
      "Inflation mode: [8.057423512647146]\n",
      "Trade mode: [84.36905428635443]\n"
     ]
    }
   ],
   "source": [
    "# Calculating the mode involves finding the value or values that appear most frequently in a dataset\n",
    "frequency = {}\n",
    "max_frequency = 0\n",
    "modes = []\n",
    "# find the occ of every value\n",
    "# the modes are the values that have the maximum frequencies\n",
    "for value in df1['GDP']:\n",
    "    frequency[value] = frequency.get(value, 0) + 1\n",
    "    if frequency[value] > max_frequency:\n",
    "        max_frequency = frequency[value]\n",
    "\n",
    "for value, freq in frequency.items():\n",
    "    if freq == max_frequency:\n",
    "        modes.append(value)\n",
    "\n",
    "print('GDP mode:' , modes)\n",
    "\n",
    "\n",
    "frequency = {}\n",
    "max_frequency = 0\n",
    "modes = []\n",
    "# find the occ of every value\n",
    "# the modes are the values that have the maximum frequencies\n",
    "for value in df1['Inflation']:\n",
    "    frequency[value] = frequency.get(value, 0) + 1\n",
    "    if frequency[value] > max_frequency:\n",
    "        max_frequency = frequency[value]\n",
    "\n",
    "for value, freq in frequency.items():\n",
    "    if freq == max_frequency:\n",
    "        modes.append(value)\n",
    "\n",
    "print('Inflation mode:' , modes)\n",
    "\n",
    "\n",
    "\n",
    "frequency = {}\n",
    "max_frequency = 0\n",
    "modes = []\n",
    "# find the occ of every value\n",
    "# the modes are the values that have the maximum frequencies\n",
    "for value in df1['Trade']:\n",
    "    frequency[value] = frequency.get(value, 0) + 1\n",
    "    if frequency[value] > max_frequency:\n",
    "        max_frequency = frequency[value]\n",
    "\n",
    "for value, freq in frequency.items():\n",
    "    if freq == max_frequency:\n",
    "        modes.append(value)\n",
    "\n",
    "print('Trade mode:' , modes)\n",
    "\n",
    "\n"
   ]
  },
  {
   "cell_type": "markdown",
   "id": "8e855aab-155b-4de8-8dd6-890cecdd383e",
   "metadata": {},
   "source": [
    "# MEDIAN"
   ]
  },
  {
   "cell_type": "code",
   "execution_count": 28,
   "id": "25480f09-1f44-4ce7-90be-b2e52f5881c3",
   "metadata": {},
   "outputs": [
    {
     "name": "stdout",
     "output_type": "stream",
     "text": [
      "GDP median -4.273354321614619\n",
      "Inflation median 3.16129528497808\n",
      "Trade median 80.39830505986029\n"
     ]
    }
   ],
   "source": [
    "# Sort the GDP Values from lowest to highest\n",
    "# identify the meddile value (the median)  if the dataset has odd nuber of values\n",
    "# if the dataset has even number of values the median is the avg of the 2 middle alues\n",
    "\n",
    "median = 0\n",
    "sorted_GDP = sorted(df1['GDP'])\n",
    "if (len(sorted_GDP)% 2 == 1):\n",
    "    median =sorted_GDP[len(sorted_GDP) // 2]\n",
    "else:\n",
    "    median =(sorted_GDP[(len(sorted_GDP) // 2) - 1] + sorted_GDP[(len(sorted_GDP) // 2)]) / 2\n",
    "print('GDP median', median)\n",
    "\n",
    "\n",
    "medianI = 0\n",
    "sorted_Inflation = sorted(df1['Inflation'])\n",
    "if (len(sorted_Inflation)% 2 == 1):\n",
    "    medianI =sorted_Inflation[len(sorted_Inflation) // 2]\n",
    "else:\n",
    "    medianI =(sorted_Inflation[(len(sorted_Inflation) // 2) - 1] + sorted_Inflation[(len(sorted_Inflation) // 2)]) / 2\n",
    "print('Inflation median' ,medianI)\n",
    "\n",
    "\n",
    "\n",
    "medianT = 0\n",
    "sorted_Trade = sorted(df1['Trade'])\n",
    "if (len(sorted_Trade)% 2 == 1):\n",
    "    medianT =sorted_Trade[len(sorted_Trade) // 2]\n",
    "else:\n",
    "    medianT =(sorted_Trade[(len(sorted_Trade) // 2) - 1] + sorted_Trade[(len(sorted_Trade) // 2)]) / 2\n",
    "print('Trade median',medianT)"
   ]
  },
  {
   "cell_type": "markdown",
   "id": "0dd4df8f-f9d4-43fd-964d-722e8e1dc9cf",
   "metadata": {},
   "source": [
    "# Variance"
   ]
  },
  {
   "cell_type": "code",
   "execution_count": 29,
   "id": "115fcb95-51eb-4032-a20d-32bfba4e37ce",
   "metadata": {},
   "outputs": [
    {
     "name": "stdout",
     "output_type": "stream",
     "text": [
      "GDP VARIANCE 69.2870904976362\n",
      "Inflation VARIANCE 1569.4014160246084\n",
      "Trade VARIANCE 2789.6205364412262\n"
     ]
    }
   ],
   "source": [
    "## to calculate the variance we should :\n",
    "### Find the average of all values in the dataset\n",
    "### For each value, subtract the mean and square the result.\n",
    "### Sum all the squared differences and divide by the total number of values in the dataset.\n",
    "\n",
    "\n",
    "\n",
    "sum = 0\n",
    "for value in df1['GDP']:\n",
    "    sum += (value - avg_GDP)*(value - avg_GDP)\n",
    "variance = sum / len(df1['GDP'])\n",
    "print('GDP VARIANCE',variance)\n",
    "\n",
    "\n",
    "sum1 = 0\n",
    "for value in df1['Inflation']:\n",
    "    sum1 += (value - avg_Inflation)*(value - avg_Inflation)\n",
    "variance1 = sum1 / len(df1['Inflation'])\n",
    "print('Inflation VARIANCE',variance1)\n",
    "\n",
    "\n",
    "sum2 = 0\n",
    "for value in df1['Trade']:\n",
    "    sum2 += (value - avg_Trade)*(value - avg_Trade)\n",
    "variance2 = sum2 / len(df1['Trade'])\n",
    "print('Trade VARIANCE',variance2)\n",
    "\n",
    "\n",
    "    \n",
    "    "
   ]
  },
  {
   "cell_type": "markdown",
   "id": "eb43a6bb-93c2-487a-83ab-e284a86414f8",
   "metadata": {},
   "source": [
    "# Standard Deviation"
   ]
  },
  {
   "cell_type": "code",
   "execution_count": 30,
   "id": "5e5ab36a-6251-4fe0-875a-6d14fb4f0ddb",
   "metadata": {},
   "outputs": [
    {
     "name": "stdout",
     "output_type": "stream",
     "text": [
      "GDP Standard Deviation 8.323886742239841\n",
      "Inflation Standard Deviation 39.61567134385846\n",
      "Trade Standard Deviation 52.81685844918482\n"
     ]
    }
   ],
   "source": [
    "#The standard deviation is the square root of the variance.\n",
    "import numpy as np\n",
    "print('GDP Standard Deviation',np.sqrt(variance))\n",
    "print('Inflation Standard Deviation',np.sqrt(variance1))\n",
    "print('Trade Standard Deviation',np.sqrt(variance2))\n",
    "\n"
   ]
  },
  {
   "cell_type": "markdown",
   "id": "de2676b5-3e6b-48b2-92b3-23f34c0e8e4e",
   "metadata": {},
   "source": [
    "# Variation Coefficient"
   ]
  },
  {
   "cell_type": "code",
   "execution_count": 31,
   "id": "1fe93f1f-0eeb-46fd-b651-1be5561d6455",
   "metadata": {},
   "outputs": [
    {
     "name": "stdout",
     "output_type": "stream",
     "text": [
      "GDP Variation Coefficient -164.32672320105587\n",
      "Inflation Variation Coefficient 491.6667379054442\n",
      "Trade Variation Coefficient 62.60216959398491\n"
     ]
    }
   ],
   "source": [
    "#the Coefficient of Variation is the standard deviation devided by the mean, then multiplied   by 100 to express it as a percentage.\n",
    "\n",
    "print('GDP Variation Coefficient',((np.sqrt(variance)) / avg_GDP) * 100)\n",
    "print('Inflation Variation Coefficient',((np.sqrt(variance1)) / avg_Inflation) * 100)\n",
    "print('Trade Variation Coefficient',((np.sqrt(variance2)) / avg_Trade) * 100)\n",
    "\n",
    "\n",
    "\n",
    "\n"
   ]
  },
  {
   "cell_type": "markdown",
   "id": "0527a642-3871-498f-a6e2-7b58166803bc",
   "metadata": {},
   "source": [
    "# Skewness"
   ]
  },
  {
   "cell_type": "code",
   "execution_count": 32,
   "id": "79b226ff-33e3-45cd-ba64-3bd48a201b3f",
   "metadata": {},
   "outputs": [
    {
     "name": "stdout",
     "output_type": "stream",
     "text": [
      "Skewness of GDP growth: -0.3324246951048427\n",
      "Skewness of inflation: 12.585050435975772\n",
      "Skewness of trade: 2.8519145629079916\n"
     ]
    }
   ],
   "source": [
    "import scipy.stats as stats\n",
    "\n",
    "# Calculate skewness for GDP growth\n",
    "gdp_growth_skewness = stats.skew(df1['GDP'])\n",
    "print(\"Skewness of GDP growth:\", gdp_growth_skewness)\n",
    "\n",
    "# Calculate skewness for inflation\n",
    "inflation_skewness = stats.skew(df1['Inflation'])\n",
    "print(\"Skewness of inflation:\", inflation_skewness)\n",
    "\n",
    "# Calculate skewness for trade\n",
    "trade_skewness = stats.skew(df1['Trade'])\n",
    "print(\"Skewness of trade:\", trade_skewness)"
   ]
  },
  {
   "cell_type": "markdown",
   "id": "b4a9cebb-336d-4820-abec-58dde8ea2d84",
   "metadata": {},
   "source": []
  },
  {
   "cell_type": "code",
   "execution_count": 34,
   "id": "d502f1ea-2b28-42d8-9005-8c524ef215e8",
   "metadata": {},
   "outputs": [
    {
     "name": "stdout",
     "output_type": "stream",
     "text": [
      "Kurtosis of GDP growth: 12.028867694003246\n",
      "Kurtosis of inflation: 168.29815134511142\n",
      "Kurtosis of trade: 11.071567478101187\n"
     ]
    }
   ],
   "source": [
    "# Calculate kurtosis for GDP growth\n",
    "gdp_growth_kurtosis = stats.kurtosis(df1['GDP'])\n",
    "print(\"Kurtosis of GDP growth:\", gdp_growth_kurtosis)\n",
    "\n",
    "# Calculate kurtosis for inflation\n",
    "inflation_kurtosis = stats.kurtosis(df1['Inflation'])\n",
    "print(\"Kurtosis of inflation:\", inflation_kurtosis)\n",
    "\n",
    "# Calculate kurtosis for trade\n",
    "trade_kurtosis = stats.kurtosis(df1['Trade'])\n",
    "print(\"Kurtosis of trade:\", trade_kurtosis)"
   ]
  }
 ],
 "metadata": {
  "kernelspec": {
   "display_name": "Python 3 (ipykernel)",
   "language": "python",
   "name": "python3"
  },
  "language_info": {
   "codemirror_mode": {
    "name": "ipython",
    "version": 3
   },
   "file_extension": ".py",
   "mimetype": "text/x-python",
   "name": "python",
   "nbconvert_exporter": "python",
   "pygments_lexer": "ipython3",
   "version": "3.11.5"
  }
 },
 "nbformat": 4,
 "nbformat_minor": 5
}
